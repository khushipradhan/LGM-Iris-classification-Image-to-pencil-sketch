{
 "cells": [
  {
   "cell_type": "markdown",
   "id": "ed9d99fa",
   "metadata": {},
   "source": [
    "## <center>Image to Sketch using Python</center>\n",
    "### <center></center>\n",
    "#### <center>31st October 2023 </center>\n",
    "<center><b>Khushi Pradhan</b></center>"
   ]
  },
  {
   "cell_type": "markdown",
   "id": "fd67359c",
   "metadata": {},
   "source": [
    "#### Importing the libraries\n",
    "\n"
   ]
  },
  {
   "cell_type": "code",
   "execution_count": 1,
   "id": "072ee2e9",
   "metadata": {},
   "outputs": [],
   "source": [
    "import cv2\n",
    "import numpy as np"
   ]
  },
  {
   "cell_type": "markdown",
   "id": "10084d11",
   "metadata": {},
   "source": [
    "#### Now, the function which we are creating is going to read the input image in color (BGR) format and Convert the image to grayscale followed by inverting the grayscale image (negative image) and applying a threshold to create a binary sketch\n"
   ]
  },
  {
   "cell_type": "code",
   "execution_count": 2,
   "id": "0bf531b5",
   "metadata": {},
   "outputs": [],
   "source": [
    "def pencil_sketch(image_path):\n",
    " \n",
    "    image = cv2.imread(image_path)\n",
    "    gray_image = cv2.cvtColor(image, cv2.COLOR_BGR2GRAY)\n",
    "    inverted_gray_image = cv2.bitwise_not(gray_image)\n",
    "    _, sketch = cv2.threshold(inverted_gray_image, 130, 255, cv2.THRESH_BINARY)\n",
    "\n",
    "    return sketch"
   ]
  },
  {
   "cell_type": "markdown",
   "id": "82ad734c",
   "metadata": {},
   "source": [
    "#### Inputing the image path"
   ]
  },
  {
   "cell_type": "code",
   "execution_count": 3,
   "id": "265dd801",
   "metadata": {},
   "outputs": [],
   "source": [
    "input_image_path = \"C:/Users/Madhav Pradhan/Downloads/q19.jpg\""
   ]
  },
  {
   "cell_type": "markdown",
   "id": "51943a48",
   "metadata": {},
   "source": [
    "#### Creating and saving the pencil sketch"
   ]
  },
  {
   "cell_type": "code",
   "execution_count": 4,
   "id": "cd49d29a",
   "metadata": {},
   "outputs": [
    {
     "data": {
      "text/plain": [
       "True"
      ]
     },
     "execution_count": 4,
     "metadata": {},
     "output_type": "execute_result"
    }
   ],
   "source": [
    "sketch = pencil_sketch(input_image_path)\n",
    "output_image_path = 'C:/Users/Madhav Pradhan/Downloads/sketchofq19.jpg'\n",
    "cv2.imwrite(output_image_path, sketch)"
   ]
  },
  {
   "cell_type": "markdown",
   "id": "b91daa14",
   "metadata": {},
   "source": [
    "#### Displaying the original image and the pencil sketch"
   ]
  },
  {
   "cell_type": "code",
   "execution_count": 5,
   "id": "88c5520b",
   "metadata": {},
   "outputs": [],
   "source": [
    "cv2.imshow('Original Image', cv2.imread(input_image_path))\n",
    "cv2.imshow('Pencil Sketch', cv2.imread(output_image_path))\n",
    "cv2.waitKey(0)\n",
    "cv2.destroyAllWindows()"
   ]
  },
  {
   "cell_type": "code",
   "execution_count": null,
   "id": "fc964c87",
   "metadata": {},
   "outputs": [],
   "source": []
  }
 ],
 "metadata": {
  "kernelspec": {
   "display_name": "Python 3 (ipykernel)",
   "language": "python",
   "name": "python3"
  },
  "language_info": {
   "codemirror_mode": {
    "name": "ipython",
    "version": 3
   },
   "file_extension": ".py",
   "mimetype": "text/x-python",
   "name": "python",
   "nbconvert_exporter": "python",
   "pygments_lexer": "ipython3",
   "version": "3.9.12"
  }
 },
 "nbformat": 4,
 "nbformat_minor": 5
}
